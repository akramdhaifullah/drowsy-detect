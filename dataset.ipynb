{
 "cells": [
  {
   "cell_type": "markdown",
   "metadata": {},
   "source": [
    "### Import necessary libraries"
   ]
  },
  {
   "cell_type": "code",
   "execution_count": 1,
   "metadata": {},
   "outputs": [],
   "source": [
    "# Path for creating directories\n",
    "from pathlib import Path\n",
    "# cv2 to preview video dataset\n",
    "import cv2 as cv\n",
    "# os for listing files\n",
    "import os\n",
    "# random for choosing random files\n",
    "import random"
   ]
  },
  {
   "cell_type": "markdown",
   "metadata": {},
   "source": [
    "### Create directory for dataset"
   ]
  },
  {
   "cell_type": "code",
   "execution_count": 2,
   "metadata": {},
   "outputs": [],
   "source": [
    "Path(\"./dataset\").mkdir(parents=True, exist_ok=True)"
   ]
  },
  {
   "cell_type": "markdown",
   "metadata": {},
   "source": [
    "### Download and extract the dataset"
   ]
  },
  {
   "cell_type": "markdown",
   "metadata": {},
   "source": [
    "Visit <https://ieee-dataport.org/open-access/yawdd-yawning-detection-dataset> and log in or create an account to download. Extract the downloaded file and move the contents to the dataset folder in the workspace.\n"
   ]
  },
  {
   "cell_type": "code",
   "execution_count": 3,
   "metadata": {},
   "outputs": [],
   "source": [
    "# .\n",
    "# ├── .devcontainer\n",
    "# ├── dataset/\n",
    "# │   └── YawDD dataset/\n",
    "# │       └── *\n",
    "# └── *"
   ]
  },
  {
   "cell_type": "markdown",
   "metadata": {},
   "source": [
    "### YawDD exploratory"
   ]
  },
  {
   "cell_type": "markdown",
   "metadata": {},
   "source": [
    "Renaming folder for better naming conventions"
   ]
  },
  {
   "cell_type": "code",
   "execution_count": 3,
   "metadata": {},
   "outputs": [],
   "source": [
    "old_base_path = \"dataset/YawDD dataset/\"\n",
    "new_base_path = \"dataset/YawDD/\""
   ]
  },
  {
   "cell_type": "code",
   "execution_count": 4,
   "metadata": {},
   "outputs": [],
   "source": [
    "old_mirror_female_path = new_base_path + \"Mirror/Female_mirror\"\n",
    "new_mirror_female_path = new_base_path + \"Mirror/Female\""
   ]
  },
  {
   "cell_type": "code",
   "execution_count": 5,
   "metadata": {},
   "outputs": [],
   "source": [
    "old_mirror_male_path = new_base_path + \"Mirror/Male_mirror Avi Videos\"\n",
    "new_mirror_male_path = new_base_path + \"Mirror/Male\""
   ]
  },
  {
   "cell_type": "code",
   "execution_count": null,
   "metadata": {},
   "outputs": [],
   "source": [
    "os.rename(old_base_path, new_base_path)\n",
    "os.rename(old_mirror_female_path, new_mirror_female_path)\n",
    "os.rename(old_mirror_male_path, new_mirror_male_path)"
   ]
  },
  {
   "cell_type": "markdown",
   "metadata": {},
   "source": [
    "Defining paths of video datasets"
   ]
  },
  {
   "cell_type": "code",
   "execution_count": 6,
   "metadata": {},
   "outputs": [],
   "source": [
    "base_path = new_base_path\n",
    "dash_male_path = base_path + \"Dash/Male/\"\n",
    "dash_female_path = base_path + \"Dash/Female/\"\n",
    "mirror_male_path = base_path + \"Mirror/Male/\"\n",
    "mirror_female_path = base_path + \"Mirror/Female/\""
   ]
  },
  {
   "cell_type": "markdown",
   "metadata": {},
   "source": [
    "List dash video of male drivers"
   ]
  },
  {
   "cell_type": "code",
   "execution_count": 7,
   "metadata": {},
   "outputs": [
    {
     "data": {
      "text/plain": [
       "['1-MaleGlasses.avi',\n",
       " '10-MaleGlasses.avi',\n",
       " '11-MaleGlasses.avi',\n",
       " '12-MaleGlasses.avi',\n",
       " '13-MaleNoGlasses .avi',\n",
       " '14-MaleNoGlasses.avi',\n",
       " '15-MaleGlasses.avi',\n",
       " '16-MaleNoGlasses.avi',\n",
       " '2-MaleGlasses.avi',\n",
       " '3-MaleGlasses.avi',\n",
       " '4-MaleNoGlasses.avi',\n",
       " '5-MaleGlasses.avi',\n",
       " '6-MaleGlasses.avi',\n",
       " '7-MaleGlasses.avi',\n",
       " '8-MaleNoGlasses.avi',\n",
       " '9-MaleNoGlasses.avi']"
      ]
     },
     "execution_count": 7,
     "metadata": {},
     "output_type": "execute_result"
    }
   ],
   "source": [
    "dash_male_files = os.listdir(dash_male_path)\n",
    "dash_male_files"
   ]
  },
  {
   "cell_type": "markdown",
   "metadata": {},
   "source": [
    "List dash video of female drivers"
   ]
  },
  {
   "cell_type": "code",
   "execution_count": 8,
   "metadata": {},
   "outputs": [
    {
     "data": {
      "text/plain": [
       "['1-FemaleNoGlasses.avi',\n",
       " '10-FemaleNoGlasses.avi',\n",
       " '11-FemaleGlasses.avi.avi',\n",
       " '12-FemaleGlasses.avi.avi',\n",
       " '13-FemaleGlasses.avi.avi',\n",
       " '2-FemaleNoGlasses.avi',\n",
       " '3-FemaleGlasses.avi',\n",
       " '4-FemaleNoGlasses.avi',\n",
       " '5-FemaleNoGlasses.avi',\n",
       " '6-FemaleNoGlasses.avi',\n",
       " '7-FemaleNoGlasses.avi',\n",
       " '8-FemaleGlasses.avi.avi',\n",
       " '9-FemaleNoGlasses.avi']"
      ]
     },
     "execution_count": 8,
     "metadata": {},
     "output_type": "execute_result"
    }
   ],
   "source": [
    "dash_female_files = os.listdir(dash_female_path)\n",
    "dash_female_files"
   ]
  },
  {
   "cell_type": "markdown",
   "metadata": {},
   "source": [
    "List mirror videos of male drivers"
   ]
  },
  {
   "cell_type": "code",
   "execution_count": 9,
   "metadata": {},
   "outputs": [
    {
     "data": {
      "text/plain": [
       "['1-MaleNoGlasses-Talking.avi',\n",
       " '1-MaleNoGlasses-Yawning.avi',\n",
       " '1-MaleSunGlasses-Normal.avi',\n",
       " '1-MaleSunGlasses-Yawning.avi',\n",
       " '10-MaleNoGlasses-Normal.avi',\n",
       " '10-MaleNoGlasses-Talking.avi',\n",
       " '10-MaleNoGlasses-Yawning.avi',\n",
       " '11-MaleGlasses-Normal.avi',\n",
       " '11-MaleGlasses-Talking.avi',\n",
       " '11-MaleGlasses-Yawning.avi',\n",
       " '12-MaleGlasses-Normal.avi',\n",
       " '12-MaleGlasses-Talking.avi',\n",
       " '12-MaleGlasses-Yawning.avi',\n",
       " '13-MaleGlasses-Normal.avi',\n",
       " '13-MaleGlasses-Talking.avi',\n",
       " '13-MaleGlasses-Yawning.avi',\n",
       " '14-MaleGlasses-Normal.avi',\n",
       " '14-MaleGlasses-Talking.avi',\n",
       " '15-MaleNoGlasses-Normal.avi',\n",
       " '15-MaleNoGlasses-Talking.avi',\n",
       " '15-MaleNoGlasses-Yawning.avi',\n",
       " '16-MaleNoGlasses-Normal.avi',\n",
       " '16-MaleNoGlasses-Talking.avi',\n",
       " '17-MaleNoGlasses-Normal.avi',\n",
       " '17-MaleNoGlasses-Talking.avi',\n",
       " '17-MaleNoGlasses-Yawning.avi',\n",
       " '18-MaleNoGlasses-Normal.avi',\n",
       " '18-MaleNoGlasses-Talking.avi',\n",
       " '18-MaleNoGlasses-Yawning.avi',\n",
       " '19-MaleGlassesmoustache-Normal.avi',\n",
       " '19-MaleGlassesmoustache-Talking.avi',\n",
       " '19-MaleGlassesmoustache-Yawning.avi',\n",
       " '2-MaleGlasses-Normal.avi',\n",
       " '2-MaleGlasses-Talking.avi',\n",
       " '2-MaleGlasses-Yawning.avi',\n",
       " '20-MaleGlasses-Normal.avi',\n",
       " '20-MaleGlasses-Talking&yawning.avi',\n",
       " '20-MaleGlasses-Talking.avi',\n",
       " '21-MaleGlasses-Normal.avi',\n",
       " '21-MaleGlasses-Talking.avi',\n",
       " '21-MaleGlasses-Yawning.avi',\n",
       " '22-MaleGlassesmoustache-Normal.avi',\n",
       " '22-MaleGlassesmoustache-Talking.avi',\n",
       " '22-MaleGlassesmoustache-Yawning.avi',\n",
       " '23-MaleGlassesBeard-Normal.avi',\n",
       " '23-MaleGlassesBeard-Talking&Yawning.avi',\n",
       " '23-MaleGlassesBeard-Talking.avi',\n",
       " '23-MaleGlassesBeard-Yawning.avi',\n",
       " '23-MaleNoGlasses-Normal.avi',\n",
       " '23-MaleNoGlasses-Talking.avi',\n",
       " '23-MaleNoGlasses-Yawning.avi',\n",
       " '24-MaleGlasses-Normal.avi',\n",
       " '24-MaleGlasses-Talking.avi',\n",
       " '24-MaleGlasses-Yawning.avi',\n",
       " '25-MaleGlasses-Normal.avi',\n",
       " '25-MaleGlasses-Talking.avi',\n",
       " '25-MaleGlasses-Yawning.avi',\n",
       " '25-MaleSunGlasses-Normal.avi',\n",
       " '25-MaleSunGlasses-Talking.avi',\n",
       " '25-MaleSunGlasses-Yawning.avi',\n",
       " '26-MaleNoGlasses-Normal.avi',\n",
       " '26-MaleNoGlasses-Talking.avi',\n",
       " '26-MaleNoGlasses-Yawning.avi',\n",
       " '27-MaleGlasses-Normal.avi',\n",
       " '27-MaleGlasses-Talking.avi',\n",
       " '27-MaleGlasses-Yawning.avi',\n",
       " '27-MaleNoGlasses-Normal.avi',\n",
       " '27-MaleNoGlasses-Talking.avi',\n",
       " '27-MaleNoGlasses-Yawning.avi',\n",
       " '28-MaleGlasses-Normal.avi',\n",
       " '28-MaleGlasses-Talking.avi',\n",
       " '28-MaleGlasses-Yawning.avi',\n",
       " '28-MaleNoGlasses-Normal.avi',\n",
       " '28-MaleNoGlasses-Talking.avi',\n",
       " '28-MaleNoGlasses-Yawning.avi',\n",
       " '29-MaleNoGlasses-Normal.avi',\n",
       " '29-MaleNoGlasses-Talking.avi',\n",
       " '29-MaleNoGlasses-Yawning.avi',\n",
       " '3-MaleGlasses-Normal.avi',\n",
       " '3-MaleGlasses-Talking.avi',\n",
       " '3-MaleGlasses-Yawning.avi',\n",
       " '3-MaleNoGlasses-Normal.avi',\n",
       " '3-MaleNoGlasses-Yawning.avi',\n",
       " '30-MaleGlasses-Normal.avi',\n",
       " '30-MaleGlasses-Talking&Yawning.avi',\n",
       " '30-MaleGlasses-Talking.avi',\n",
       " '30-MaleGlasses-Yawning.avi',\n",
       " '31-MaleGlasses-Normal.avi',\n",
       " '31-MaleGlasses-Talking.avi',\n",
       " '31-MaleGlasses-Yawning.avi',\n",
       " '32-MaleGlasses-Normal.avi',\n",
       " '32-MaleGlasses-Talking&Yawning.avi',\n",
       " '32-MaleGlasses-Talking.avi',\n",
       " '32-MaleGlasses-Yawning.avi',\n",
       " '33-MaleGlasses-Normal.avi',\n",
       " '33-MaleGlasses-Talking&Yawning.avi',\n",
       " '33-MaleGlasses-Talking.avi',\n",
       " '33-MaleGlasses-Yawning.avi',\n",
       " '34-MaleNoGlasses-Normal.avi',\n",
       " '34-MaleNoGlasses-Talking.avi',\n",
       " '34-MaleNoGlasses-Yawning.avi',\n",
       " '35-MaleNoGlasses-Normal.avi',\n",
       " '35-MaleNoGlasses-Talking.avi',\n",
       " '35-MaleNoGlasses-Yawning.avi',\n",
       " '36-MaleNoGlasses-Normal.avi',\n",
       " '36-MaleNoGlasses-Talking.avi',\n",
       " '36-MaleNoGlasses-Yawning.avi',\n",
       " '36-MaleSunGlasses-Normal.avi',\n",
       " '36-MaleSunGlasses-Talking.avi',\n",
       " '36-MaleSunGlasses-Yawning.avi',\n",
       " '37-MaleNoGlasses-Normal.avi',\n",
       " '37-MaleNoGlasses-Talking.avi',\n",
       " '37-MaleNoGlasses-Yawning.avi',\n",
       " '38-MaleNoGlasses-Normal.avi',\n",
       " '38-MaleNoGlasses-Talking.avi',\n",
       " '38-MaleNoGlasses-Yawning.avi',\n",
       " '38-MaleSunGlasses-Normal.avi',\n",
       " '38-MaleSunGlasses-Talking.avi',\n",
       " '38-MaleSunGlasses-Yawning.avi',\n",
       " '39-MaleGlasses-Normal.avi',\n",
       " '39-MaleGlasses-Talking.avi',\n",
       " '39-MaleGlasses-Yawning.avi',\n",
       " '4-MaleNoGlasses-Normal.avi',\n",
       " '4-MaleNoGlasses-Talking.avi',\n",
       " '4-MaleNoGlasses-Yawning.avi',\n",
       " '40-MaleNoGlasses-Normal.avi',\n",
       " '40-MaleNoGlasses-Talking.avi',\n",
       " '40-MaleNoGlasses-Yawning.avi',\n",
       " '41-MaleNoGlasses-Normal.avi',\n",
       " '41-MaleNoGlasses-Talking.avi',\n",
       " '41-MaleNoGlasses-Yawning.avi',\n",
       " '42-MaleNoGlasses-Normal.avi',\n",
       " '42-MaleNoGlasses-Talking.avi',\n",
       " '42-MaleNoGlasses-Yawning.avi',\n",
       " '43-MaleNoGlasses-Normal.avi',\n",
       " '43-MaleNoGlasses-Talking.avi',\n",
       " '43-MaleNoGlasses-Yawning.avi',\n",
       " '44-MaleNoGlasses-Normal.avi',\n",
       " '44-MaleNoGlasses-Talking.avi',\n",
       " '44-MaleNoGlasses-Yawning.avi',\n",
       " '45-MaleNoGlasses-Normal.avi',\n",
       " '45-MaleNoGlasses-Talking.avi',\n",
       " '45-MaleNoGlasses-Yawning.avi',\n",
       " '46-MaleGlasses-Normal.avi',\n",
       " '46-MaleGlasses-Talking.avi',\n",
       " '46-MaleGlasses-Yawning.avi',\n",
       " '47-MaleNoGlasses-Normal.avi',\n",
       " '47-MaleNoGlasses-Talking.avi',\n",
       " '47-MaleNoGlasses-Yawning.avi',\n",
       " '5-MaleNoGlasses-Normal.avi',\n",
       " '5-MaleNoGlasses-Talking.avi',\n",
       " '5-MaleNoGlasses-Yawning.avi',\n",
       " '6-MaleNoGlasses-Normal.avi',\n",
       " '6-MaleNoGlasses-Talking.avi',\n",
       " '6-MaleNoGlasses-Yawning.avi',\n",
       " '7-MaleGlasses-Normal.avi',\n",
       " '7-MaleGlasses-Talking.avi',\n",
       " '7-MaleGlasses-Yawning.avi',\n",
       " '8-MaleGlassesBeard-Normal.avi',\n",
       " '8-MaleGlassesBeard-Talking.avi',\n",
       " '8-MaleGlassesBeard-Yawning.avi',\n",
       " '9-MaleNoGlasses-Normal.avi',\n",
       " '9-MaleNoGlasses-Talking.avi',\n",
       " '9-MaleNoGlasses-Yawning.avi']"
      ]
     },
     "execution_count": 9,
     "metadata": {},
     "output_type": "execute_result"
    }
   ],
   "source": [
    "mirror_male_files = os.listdir(mirror_male_path)\n",
    "mirror_male_files"
   ]
  },
  {
   "cell_type": "markdown",
   "metadata": {},
   "source": [
    "Choose a random file from a set"
   ]
  },
  {
   "cell_type": "code",
   "execution_count": 10,
   "metadata": {},
   "outputs": [
    {
     "name": "stdout",
     "output_type": "stream",
     "text": [
      "dataset/YawDD/Mirror/Male/36-MaleNoGlasses-Talking.avi\n"
     ]
    }
   ],
   "source": [
    "video_file = random.choice(mirror_male_files)\n",
    "video_path = mirror_male_path + video_file\n",
    "print(video_path)"
   ]
  },
  {
   "cell_type": "markdown",
   "metadata": {},
   "source": [
    "Preview a video"
   ]
  },
  {
   "cell_type": "code",
   "execution_count": 11,
   "metadata": {},
   "outputs": [
    {
     "name": "stdout",
     "output_type": "stream",
     "text": [
      "Can't receive frame (stream end?). Exiting ...\n"
     ]
    }
   ],
   "source": [
    "cap = cv.VideoCapture(video_path)\n",
    " \n",
    "while cap.isOpened():\n",
    "    ret, frame = cap.read()\n",
    " \n",
    "    # if frame is read correctly ret is True\n",
    "    if not ret:\n",
    "        print(\"Can't receive frame (stream end?). Exiting ...\")\n",
    "        break\n",
    "    gray = cv.cvtColor(frame, cv.COLOR_BGR2GRAY)\n",
    " \n",
    "    cv.imshow('frame', gray)\n",
    "    if cv.waitKey(1) == ord('q'):\n",
    "        break\n",
    " \n",
    "cap.release()\n",
    "cv.destroyAllWindows()"
   ]
  },
  {
   "cell_type": "markdown",
   "metadata": {},
   "source": [
    "### Frame extraction"
   ]
  },
  {
   "cell_type": "code",
   "execution_count": null,
   "metadata": {},
   "outputs": [],
   "source": []
  }
 ],
 "metadata": {
  "kernelspec": {
   "display_name": "Python 3",
   "language": "python",
   "name": "python3"
  },
  "language_info": {
   "codemirror_mode": {
    "name": "ipython",
    "version": 3
   },
   "file_extension": ".py",
   "mimetype": "text/x-python",
   "name": "python",
   "nbconvert_exporter": "python",
   "pygments_lexer": "ipython3",
   "version": "3.11.0rc1"
  }
 },
 "nbformat": 4,
 "nbformat_minor": 2
}
